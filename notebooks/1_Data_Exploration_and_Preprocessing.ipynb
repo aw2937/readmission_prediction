{
 "cells": [
  {
   "cell_type": "code",
   "execution_count": 1,
   "id": "10d802bf",
   "metadata": {},
   "outputs": [
    {
     "data": {
      "text/plain": [
       "'\\nNotebook for Exploring, Cleaning, and Preprocessing the Diabetes Dataset.\\n'"
      ]
     },
     "execution_count": 1,
     "metadata": {},
     "output_type": "execute_result"
    }
   ],
   "source": [
    "\"\"\"\n",
    "Notebook for Exploring, Cleaning, and Preprocessing the Diabetes Dataset.\n",
    "\"\"\""
   ]
  },
  {
   "cell_type": "markdown",
   "id": "b9a075ce",
   "metadata": {},
   "source": [
    "# 1. Data Exploration and Preprocessing\n",
    "\n",
    "**Goal:** Load the raw diabetes dataset, explore its characteristics, clean it, perform feature engineering/selection, preprocess it for modeling, and save the final train, validation, and test sets.\n",
    "\n",
    "**Skills Demonstrated:**\n",
    "- Python, Pandas, Numpy for data manipulation\n",
    "- Matplotlib, Seaborn for Exploratory Data Analysis (EDA)\n",
    "- Scikit-learn for preprocessing (Splitting, Scaling, Encoding)\n",
    "- Handling missing values\n",
    "- Feature engineering (basic)\n",
    "- Understanding data distributions and relationships\n",
    "- Structured approach using functions from `src` modules"
   ]
  },
  {
   "cell_type": "code",
   "execution_count": 2,
   "id": "9255485f",
   "metadata": {},
   "outputs": [],
   "source": [
    "# Import necessary libraries and modules\n",
    "import pandas as pd\n",
    "import numpy as np\n",
    "import matplotlib.pyplot as plt\n",
    "import seaborn as sns\n",
    "import yaml\n",
    "import os\n",
    "import sys\n",
    "\n",
    "# Add src directory to Python path to import custom modules\n",
    "module_path = os.path.abspath(os.path.join('..'))\n",
    "if module_path not in sys.path:\n",
    "    sys.path.append(module_path)\n",
    "\n",
    "from src import data_loader, preprocess\n",
    "\n",
    "# Configure plotting style\n",
    "sns.set(style=\"whitegrid\")\n",
    "%matplotlib inline"
   ]
  },
  {
   "cell_type": "markdown",
   "id": "d569f250",
   "metadata": {},
   "source": [
    "## 1.1 Load Configuration and Raw Data\n",
    "\n",
    "Load the project configuration and the raw dataset using our `data_loader` module. We'll also optionally demonstrate loading from the SQLite DB if `db_utils.py` was run."
   ]
  },
  {
   "cell_type": "code",
   "execution_count": 3,
   "id": "40099e39",
   "metadata": {},
   "outputs": [],
   "source": [
    "# Load config\n",
    "config_path = '../config/model_config.yaml' # Path relative to notebook location\n",
    "with open(config_path, 'r') as f:\n",
    "    config = yaml.safe_load(f)\n",
    "\n",
    "paths = config['paths']\n",
    "cfg_prep = config['preprocessing']"
   ]
  },
  {
   "cell_type": "code",
   "execution_count": 4,
   "id": "597785f5",
   "metadata": {},
   "outputs": [
    {
     "name": "stderr",
     "output_type": "stream",
     "text": [
      "2025-03-31 18:24:11,260 - INFO - Loading raw data from: ../data/raw/diabetic_data.csv\n",
      "2025-03-31 18:24:11,759 - INFO - Raw data loaded successfully. Shape: (101766, 50)\n"
     ]
    },
    {
     "name": "stdout",
     "output_type": "stream",
     "text": [
      "Raw data loaded from CSV:\n",
      "   encounter_id  patient_nbr             race  gender      age weight  \\\n",
      "0       2278392      8222157        Caucasian  Female   [0-10)      ?   \n",
      "1        149190     55629189        Caucasian  Female  [10-20)      ?   \n",
      "2         64410     86047875  AfricanAmerican  Female  [20-30)      ?   \n",
      "3        500364     82442376        Caucasian    Male  [30-40)      ?   \n",
      "4         16680     42519267        Caucasian    Male  [40-50)      ?   \n",
      "\n",
      "   admission_type_id  discharge_disposition_id  admission_source_id  \\\n",
      "0                  6                        25                    1   \n",
      "1                  1                         1                    7   \n",
      "2                  1                         1                    7   \n",
      "3                  1                         1                    7   \n",
      "4                  1                         1                    7   \n",
      "\n",
      "   time_in_hospital  ... citoglipton insulin  glyburide-metformin  \\\n",
      "0                 1  ...          No      No                   No   \n",
      "1                 3  ...          No      Up                   No   \n",
      "2                 2  ...          No      No                   No   \n",
      "3                 2  ...          No      Up                   No   \n",
      "4                 1  ...          No  Steady                   No   \n",
      "\n",
      "   glipizide-metformin  glimepiride-pioglitazone  metformin-rosiglitazone  \\\n",
      "0                   No                        No                       No   \n",
      "1                   No                        No                       No   \n",
      "2                   No                        No                       No   \n",
      "3                   No                        No                       No   \n",
      "4                   No                        No                       No   \n",
      "\n",
      "   metformin-pioglitazone  change diabetesMed readmitted  \n",
      "0                      No      No          No         NO  \n",
      "1                      No      Ch         Yes        >30  \n",
      "2                      No      No         Yes         NO  \n",
      "3                      No      Ch         Yes         NO  \n",
      "4                      No      Ch         Yes         NO  \n",
      "\n",
      "[5 rows x 50 columns]\n",
      "<class 'pandas.core.frame.DataFrame'>\n",
      "RangeIndex: 101766 entries, 0 to 101765\n",
      "Data columns (total 50 columns):\n",
      " #   Column                    Non-Null Count   Dtype \n",
      "---  ------                    --------------   ----- \n",
      " 0   encounter_id              101766 non-null  int64 \n",
      " 1   patient_nbr               101766 non-null  int64 \n",
      " 2   race                      101766 non-null  object\n",
      " 3   gender                    101766 non-null  object\n",
      " 4   age                       101766 non-null  object\n",
      " 5   weight                    101766 non-null  object\n",
      " 6   admission_type_id         101766 non-null  int64 \n",
      " 7   discharge_disposition_id  101766 non-null  int64 \n",
      " 8   admission_source_id       101766 non-null  int64 \n",
      " 9   time_in_hospital          101766 non-null  int64 \n",
      " 10  payer_code                101766 non-null  object\n",
      " 11  medical_specialty         101766 non-null  object\n",
      " 12  num_lab_procedures        101766 non-null  int64 \n",
      " 13  num_procedures            101766 non-null  int64 \n",
      " 14  num_medications           101766 non-null  int64 \n",
      " 15  number_outpatient         101766 non-null  int64 \n",
      " 16  number_emergency          101766 non-null  int64 \n",
      " 17  number_inpatient          101766 non-null  int64 \n",
      " 18  diag_1                    101766 non-null  object\n",
      " 19  diag_2                    101766 non-null  object\n",
      " 20  diag_3                    101766 non-null  object\n",
      " 21  number_diagnoses          101766 non-null  int64 \n",
      " 22  max_glu_serum             5346 non-null    object\n",
      " 23  A1Cresult                 17018 non-null   object\n",
      " 24  metformin                 101766 non-null  object\n",
      " 25  repaglinide               101766 non-null  object\n",
      " 26  nateglinide               101766 non-null  object\n",
      " 27  chlorpropamide            101766 non-null  object\n",
      " 28  glimepiride               101766 non-null  object\n",
      " 29  acetohexamide             101766 non-null  object\n",
      " 30  glipizide                 101766 non-null  object\n",
      " 31  glyburide                 101766 non-null  object\n",
      " 32  tolbutamide               101766 non-null  object\n",
      " 33  pioglitazone              101766 non-null  object\n",
      " 34  rosiglitazone             101766 non-null  object\n",
      " 35  acarbose                  101766 non-null  object\n",
      " 36  miglitol                  101766 non-null  object\n",
      " 37  troglitazone              101766 non-null  object\n",
      " 38  tolazamide                101766 non-null  object\n",
      " 39  examide                   101766 non-null  object\n",
      " 40  citoglipton               101766 non-null  object\n",
      " 41  insulin                   101766 non-null  object\n",
      " 42  glyburide-metformin       101766 non-null  object\n",
      " 43  glipizide-metformin       101766 non-null  object\n",
      " 44  glimepiride-pioglitazone  101766 non-null  object\n",
      " 45  metformin-rosiglitazone   101766 non-null  object\n",
      " 46  metformin-pioglitazone    101766 non-null  object\n",
      " 47  change                    101766 non-null  object\n",
      " 48  diabetesMed               101766 non-null  object\n",
      " 49  readmitted                101766 non-null  object\n",
      "dtypes: int64(13), object(37)\n",
      "memory usage: 38.8+ MB\n",
      "None\n"
     ]
    }
   ],
   "source": [
    "# Load raw data from CSV\n",
    "try:\n",
    "    df_raw = data_loader.load_raw_data(f\"../{paths['raw_data']}\") # Adjust path relative to notebook\n",
    "    print(\"Raw data loaded from CSV:\")\n",
    "    print(df_raw.head())\n",
    "    print(df_raw.info())\n",
    "except FileNotFoundError as e:\n",
    "    print(e)\n",
    "    print(\"Please ensure 'diabetic_data.csv' is in the 'data/raw/' directory.\")\n",
    "    # Stop execution if file not found\n",
    "    # raise"
   ]
  },
  {
   "cell_type": "code",
   "execution_count": null,
   "id": "53aedd00",
   "metadata": {
    "lines_to_next_cell": 2
   },
   "outputs": [],
   "source": [
    "# (Optional) Load raw data from SQLite DB - Uncomment if you ran db_utils.py\n",
    "# db_path_relative = f\"../{paths['db_path']}\"\n",
    "# if os.path.exists(db_path_relative):\n",
    "#     print(\"\\nLoading raw data from SQLite DB...\")\n",
    "#     df_raw_db = data_loader.load_data_from_db(db_path_relative)\n",
    "#     if df_raw_db is not None:\n",
    "#         print(df_raw_db.head())\n",
    "#     else:\n",
    "#         print(\"Could not load data from DB.\")\n",
    "# else:\n",
    "#     print(\"\\nSQLite DB not found. Run src/db_utils.py to create it.\")"
   ]
  },
  {
   "cell_type": "markdown",
   "id": "a30be247",
   "metadata": {},
   "source": [
    "## 1.2 Initial Data Exploration (EDA)\n",
    "Perform basic EDA on the raw data.\n",
    "- Check dimensions\n",
    "- Look at data types\n",
    "- Examine missing values (represented as '?')\n",
    "- Analyze the target variable distribution"
   ]
  },
  {
   "cell_type": "code",
   "execution_count": 5,
   "id": "85c78517",
   "metadata": {},
   "outputs": [
    {
     "name": "stdout",
     "output_type": "stream",
     "text": [
      "Dataset dimensions: (101766, 50)\n"
     ]
    }
   ],
   "source": [
    "print(f\"Dataset dimensions: {df_raw.shape}\")"
   ]
  },
  {
   "cell_type": "code",
   "execution_count": 6,
   "id": "09921360",
   "metadata": {},
   "outputs": [
    {
     "name": "stdout",
     "output_type": "stream",
     "text": [
      "\n",
      "Columns with '?' values:\n",
      "race                  2273\n",
      "weight               98569\n",
      "payer_code           40256\n",
      "medical_specialty    49949\n",
      "diag_1                  21\n",
      "diag_2                 358\n",
      "diag_3                1423\n",
      "dtype: int64\n"
     ]
    }
   ],
   "source": [
    "# Check for '?' representing missing values\n",
    "print(\"\\nColumns with '?' values:\")\n",
    "missing_q = (df_raw == '?').sum()\n",
    "print(missing_q[missing_q > 0])"
   ]
  },
  {
   "cell_type": "code",
   "execution_count": 7,
   "id": "7a9113bf",
   "metadata": {},
   "outputs": [
    {
     "name": "stdout",
     "output_type": "stream",
     "text": [
      "\n",
      "Target variable distribution ('readmitted'):\n",
      "readmitted\n",
      "NO     54864\n",
      ">30    35545\n",
      "<30    11357\n",
      "Name: count, dtype: int64\n",
      "\n",
      "Normalized distribution:\n",
      "readmitted\n",
      "NO     0.539119\n",
      ">30    0.349282\n",
      "<30    0.111599\n",
      "Name: proportion, dtype: float64\n"
     ]
    },
    {
     "data": {
      "image/png": "[encoded data removed]",
      "text/plain": [
       "<Figure size 576x360 with 1 Axes>"
      ]
     },
     "metadata": {
      "needs_background": "light"
     },
     "output_type": "display_data"
    }
   ],
   "source": [
    "# Analyze target variable 'readmitted'\n",
    "print(\"\\nTarget variable distribution ('readmitted'):\")\n",
    "print(df_raw['readmitted'].value_counts())\n",
    "print(\"\\nNormalized distribution:\")\n",
    "print(df_raw['readmitted'].value_counts(normalize=True))\n",
    "\n",
    "plt.figure(figsize=(8, 5))\n",
    "sns.countplot(data=df_raw, x='readmitted')\n",
    "plt.title('Distribution of Readmission Status')\n",
    "plt.show()"
   ]
  },
  {
   "cell_type": "markdown",
   "id": "a517c806",
   "metadata": {},
   "source": [
    "**Observations:**\n",
    "- Several columns (`weight`, `payer_code`, `medical_specialty`) have a high number of missing values ('?'). These are candidates for dropping.\n",
    "- Other columns also have missing values that need handling.\n",
    "- The target variable shows imbalance: 'NO' readmission is the most frequent category. We are interested in predicting `<30` days readmission, making this a binary classification problem after mapping."
   ]
  },
  {
   "cell_type": "markdown",
   "id": "27f28c49",
   "metadata": {},
   "source": [
    "## 1.3 Data Cleaning and Target Mapping\n",
    "Apply the cleaning steps defined in `src/preprocess.py`.\n",
    "- Replace '?' with NaN.\n",
    "- Drop specified columns.\n",
    "- Drop rows with missing values in key columns (simplification for demo).\n",
    "- Handle duplicates (keeping first encounter per patient).\n",
    "- Map categorical 'age' to numerical.\n",
    "- Map the target variable `readmitted` to binary (1 for `<30`, 0 otherwise)."
   ]
  },
  {
   "cell_type": "code",
   "execution_count": 8,
   "id": "f2b8a212",
   "metadata": {},
   "outputs": [
    {
     "name": "stderr",
     "output_type": "stream",
     "text": [
      "2025-03-31 18:24:37,686 - INFO - Starting data cleaning...\n",
      "2025-03-31 18:24:37,909 - INFO - Replaced '?' with NaN. Shape: (101766, 50)\n",
      "2025-03-31 18:24:37,960 - INFO - Dropped specified columns. Shape: (101766, 45)\n",
      "2025-03-31 18:24:38,039 - INFO - Dropped 3713 rows with missing values in key columns. Shape: (98053, 45)\n",
      "2025-03-31 18:24:38,045 - INFO - Mapped 'age' column to numerical values.\n",
      "2025-03-31 18:24:38,046 - INFO - Data cleaning finished.\n"
     ]
    }
   ],
   "source": [
    "# Apply cleaning function\n",
    "df_cleaned = preprocess.clean_data(df_raw.copy(), cfg_prep['drop_cols']) # Use copy to avoid modifying df_raw"
   ]
  },
  {
   "cell_type": "code",
   "execution_count": 9,
   "id": "4fecb1bd",
   "metadata": {},
   "outputs": [
    {
     "name": "stderr",
     "output_type": "stream",
     "text": [
      "2025-03-31 18:24:41,555 - INFO - Mapping target variable 'readmitted'...\n",
      "2025-03-31 18:24:41,637 - INFO - Target variable mapped. Value counts:\n",
      "readmitted\n",
      "0    0.887143\n",
      "1    0.112857\n",
      "Name: proportion, dtype: float64\n",
      "2025-03-31 18:24:41,728 - INFO - Using categorical units to plot a list of strings that are all parsable as floats or dates. If these strings should be plotted as numbers, cast to the appropriate data type before plotting.\n",
      "2025-03-31 18:24:41,775 - INFO - Using categorical units to plot a list of strings that are all parsable as floats or dates. If these strings should be plotted as numbers, cast to the appropriate data type before plotting.\n"
     ]
    },
    {
     "name": "stdout",
     "output_type": "stream",
     "text": [
      "\n",
      "Target variable distribution after mapping:\n",
      "readmitted\n",
      "0    0.887143\n",
      "1    0.112857\n",
      "Name: proportion, dtype: float64\n"
     ]
    },
    {
     "data": {
      "image/png": "[encoded data removed]",
      "text/plain": [
       "<Figure size 432x288 with 1 Axes>"
      ]
     },
     "metadata": {
      "needs_background": "light"
     },
     "output_type": "display_data"
    }
   ],
   "source": [
    "# Apply target mapping function\n",
    "df_mapped = preprocess.map_target(df_cleaned, cfg_prep['target_col'], cfg_prep['target_map'])\n",
    "\n",
    "print(\"\\nTarget variable distribution after mapping:\")\n",
    "print(df_mapped[cfg_prep['target_col']].value_counts(normalize=True))\n",
    "\n",
    "plt.figure(figsize=(6, 4))\n",
    "sns.countplot(data=df_mapped, x=cfg_prep['target_col'])\n",
    "plt.title('Distribution of Binary Target (1 = Readmitted <30d)')\n",
    "plt.xticks([0, 1], ['No / >30d', '<30d'])\n",
    "plt.show()"
   ]
  },
  {
   "cell_type": "markdown",
   "id": "aa7f98d7",
   "metadata": {},
   "source": [
    "**Observation:** The target variable remains imbalanced after mapping to binary, with the positive class (`<30` days readmission) being the minority. This needs to be addressed during modeling (e.g., class weights, appropriate metrics)."
   ]
  },
  {
   "cell_type": "markdown",
   "id": "b735879c",
   "metadata": {},
   "source": [
    "## 1.4 Feature Identification and Splitting\n",
    "Identify numerical and categorical features and split the data into training, validation, and test sets *before* applying scaling and encoding."
   ]
  },
  {
   "cell_type": "code",
   "execution_count": 10,
   "id": "00b7fc68",
   "metadata": {},
   "outputs": [
    {
     "name": "stdout",
     "output_type": "stream",
     "text": [
      "\n",
      "Identified 8 numeric features.\n",
      "Identified 36 categorical features.\n"
     ]
    }
   ],
   "source": [
    "# Identify feature types (as done in preprocess_pipeline)\n",
    "potential_numeric = cfg_prep['numeric_cols']\n",
    "all_cols = df_mapped.drop(columns=[cfg_prep['target_col']]).columns\n",
    "numeric_features = [col for col in potential_numeric if col in all_cols]\n",
    "categorical_features = [col for col in all_cols if col not in numeric_features]\n",
    "\n",
    "print(f\"\\nIdentified {len(numeric_features)} numeric features.\")\n",
    "# print(numeric_features)\n",
    "print(f\"Identified {len(categorical_features)} categorical features.\")\n",
    "# print(categorical_features)"
   ]
  },
  {
   "cell_type": "code",
   "execution_count": 11,
   "id": "650d29d4",
   "metadata": {},
   "outputs": [
    {
     "name": "stderr",
     "output_type": "stream",
     "text": [
      "2025-03-31 18:24:53,199 - INFO - Splitting data into train, validation, and test sets...\n",
      "2025-03-31 18:24:53,356 - INFO - Data split complete:\n",
      "2025-03-31 18:24:53,358 - INFO - Train set shape: (58831, 44), Target distribution:\n",
      "readmitted\n",
      "0    0.887134\n",
      "1    0.112866\n",
      "Name: proportion, dtype: float64\n",
      "2025-03-31 18:24:53,360 - INFO - Validation set shape: (19611, 44), Target distribution:\n",
      "readmitted\n",
      "0    0.887155\n",
      "1    0.112845\n",
      "Name: proportion, dtype: float64\n",
      "2025-03-31 18:24:53,362 - INFO - Test set shape: (19611, 44), Target distribution:\n",
      "readmitted\n",
      "0    0.887155\n",
      "1    0.112845\n",
      "Name: proportion, dtype: float64\n"
     ]
    },
    {
     "name": "stdout",
     "output_type": "stream",
     "text": [
      "\n",
      "Data split summary:\n",
      "Train set shape (unprocessed): (58831, 45)\n",
      "Validation set shape (unprocessed): (19611, 45)\n",
      "Test set shape (unprocessed): (19611, 45)\n"
     ]
    }
   ],
   "source": [
    "# Split data using the function from preprocess.py\n",
    "train_df_unprocessed, val_df_unprocessed, test_df_unprocessed = preprocess.split_data(\n",
    "    df_mapped,\n",
    "    cfg_prep['target_col'],\n",
    "    cfg_prep['test_size'],\n",
    "    cfg_prep['validation_size'],\n",
    "    cfg_prep['random_state']\n",
    ")\n",
    "\n",
    "print(\"\\nData split summary:\")\n",
    "print(f\"Train set shape (unprocessed): {train_df_unprocessed.shape}\")\n",
    "print(f\"Validation set shape (unprocessed): {val_df_unprocessed.shape}\")\n",
    "print(f\"Test set shape (unprocessed): {test_df_unprocessed.shape}\")"
   ]
  },
  {
   "cell_type": "markdown",
   "id": "865f250a",
   "metadata": {},
   "source": [
    "## 1.5 Preprocessing (Scaling and Encoding) and Saving\n",
    "- Create the preprocessor (StandardScaler for numeric, OneHotEncoder for categorical).\n",
    "- **Fit** the preprocessor **only** on the **training data**.\n",
    "- **Transform** all three sets (train, validation, test) using the **fitted** preprocessor.\n",
    "- Save the processed datasets."
   ]
  },
  {
   "cell_type": "code",
   "execution_count": 12,
   "id": "c2ab3feb",
   "metadata": {
    "lines_to_next_cell": 1
   },
   "outputs": [
    {
     "name": "stderr",
     "output_type": "stream",
     "text": [
      "2025-03-31 18:25:01,506 - INFO - Creating preprocessor pipeline...\n",
      "2025-03-31 18:25:01,508 - INFO - Preprocessor created.\n"
     ]
    },
    {
     "name": "stdout",
     "output_type": "stream",
     "text": [
      "\n",
      "Fitting preprocessor on training data...\n",
      "Preprocessor fitted.\n"
     ]
    }
   ],
   "source": [
    "# Create the preprocessor\n",
    "preprocessor = preprocess.create_preprocessor(numeric_features, categorical_features)\n",
    "\n",
    "# Fit on training data\n",
    "X_train_unprocessed = train_df_unprocessed.drop(columns=[cfg_prep['target_col']])\n",
    "print(\"\\nFitting preprocessor on training data...\")\n",
    "preprocessor.fit(X_train_unprocessed)\n",
    "print(\"Preprocessor fitted.\")"
   ]
  },
  {
   "cell_type": "code",
   "execution_count": 13,
   "id": "5245de9d",
   "metadata": {
    "lines_to_next_cell": 2
   },
   "outputs": [],
   "source": [
    "# Define the apply_preprocessing helper function (copied from preprocess.py for notebook use)\n",
    "def apply_preprocessing_notebook(df_in: pd.DataFrame, target_col: str, prep) -> pd.DataFrame:\n",
    "    X = df_in.drop(columns=[target_col])\n",
    "    y = df_in[target_col]\n",
    "    print(f\"Applying preprocessor to data with shape: {X.shape}\")\n",
    "    X_processed = prep.transform(X)\n",
    "    # Get feature names after transformation\n",
    "    try:\n",
    "        # For sklearn >= 1.0\n",
    "        feature_names = prep.get_feature_names_out()\n",
    "    except AttributeError:\n",
    "         # Fallback for older sklearn or different ColumnTransformer structure\n",
    "         # This part might need adjustment based on the exact sklearn version and preprocessor steps\n",
    "        feature_names = []\n",
    "        for name, trans, cols in prep.transformers_:\n",
    "            if hasattr(trans, 'get_feature_names_out'):\n",
    "                 # Handle transformers like OneHotEncoder\n",
    "                f_names = trans.get_feature_names_out(cols)\n",
    "                feature_names.extend(f_names)\n",
    "            elif name != 'remainder':\n",
    "                 # Handle transformers like StandardScaler\n",
    "                 feature_names.extend(cols)\n",
    "            elif trans == 'passthrough':\n",
    "                 # Handle remainder='passthrough'\n",
    "                 rem_cols = [c for c in X.columns if c not in prep._feature_names_in] # Access internal attr, maybe fragile\n",
    "                 feature_names.extend(rem_cols)\n",
    "\n",
    "\n",
    "    X_processed_df = pd.DataFrame(X_processed, columns=feature_names, index=X.index)\n",
    "    print(f\"Processed data shape: {X_processed_df.shape}\")\n",
    "    # Ensure y index matches X_processed_df before concatenation\n",
    "    y = y.loc[X_processed_df.index] # Align index\n",
    "    return pd.concat([X_processed_df, y], axis=1)"
   ]
  },
  {
   "cell_type": "code",
   "execution_count": 14,
   "id": "f8454b70",
   "metadata": {},
   "outputs": [
    {
     "name": "stdout",
     "output_type": "stream",
     "text": [
      "\n",
      "Applying preprocessing to training set...\n",
      "Applying preprocessor to data with shape: (58831, 44)\n",
      "Processed data shape: (58831, 2220)\n",
      "\n",
      "Applying preprocessing to validation set...\n",
      "Applying preprocessor to data with shape: (19611, 44)\n",
      "Processed data shape: (19611, 2220)\n",
      "\n",
      "Applying preprocessing to test set...\n",
      "Applying preprocessor to data with shape: (19611, 44)\n",
      "Processed data shape: (19611, 2220)\n"
     ]
    }
   ],
   "source": [
    "# Apply preprocessing to all splits\n",
    "print(\"\\nApplying preprocessing to training set...\")\n",
    "train_processed_df = apply_preprocessing_notebook(train_df_unprocessed, cfg_prep['target_col'], preprocessor)\n",
    "\n",
    "print(\"\\nApplying preprocessing to validation set...\")\n",
    "val_processed_df = apply_preprocessing_notebook(val_df_unprocessed, cfg_prep['target_col'], preprocessor)\n",
    "\n",
    "print(\"\\nApplying preprocessing to test set...\")\n",
    "test_processed_df = apply_preprocessing_notebook(test_df_unprocessed, cfg_prep['target_col'], preprocessor)"
   ]
  },
  {
   "cell_type": "code",
   "execution_count": 15,
   "id": "730d752c",
   "metadata": {},
   "outputs": [
    {
     "name": "stdout",
     "output_type": "stream",
     "text": [
      "\n",
      "Head of processed training data:\n",
      "       num__time_in_hospital  num__num_lab_procedures  num__num_procedures  \\\n",
      "21175              -1.145663                -2.132842            -0.204312   \n",
      "11323              -0.812482                -1.575279            -0.204312   \n",
      "45414               0.853422                -0.662901            -0.788310   \n",
      "25856              -0.479301                -0.054650            -0.788310   \n",
      "6061                2.852508                -0.206713            -0.204312   \n",
      "\n",
      "       num__num_medications  num__number_outpatient  num__number_emergency  \\\n",
      "21175             -0.140697               -0.293598              -0.212104   \n",
      "11323              0.226825               -0.293598              -0.212104   \n",
      "45414              0.471839               -0.293598              -0.212104   \n",
      "25856             -0.630725               -0.293598              -0.212104   \n",
      "6061              -0.630725               -0.293598              -0.212104   \n",
      "\n",
      "       num__number_inpatient  num__number_diagnoses  \\\n",
      "21175              -0.508523              -1.924454   \n",
      "11323              -0.508523              -1.377509   \n",
      "45414               0.273864               0.810270   \n",
      "25856               1.056251               0.810270   \n",
      "6061                1.056251              -1.377509   \n",
      "\n",
      "       cat__race_AfricanAmerican  cat__race_Asian  ...  \\\n",
      "21175                        0.0              0.0  ...   \n",
      "11323                        0.0              0.0  ...   \n",
      "45414                        0.0              0.0  ...   \n",
      "25856                        0.0              0.0  ...   \n",
      "6061                         0.0              0.0  ...   \n",
      "\n",
      "       cat__glimepiride-pioglitazone_No  cat__glimepiride-pioglitazone_Steady  \\\n",
      "21175                               1.0                                   0.0   \n",
      "11323                               1.0                                   0.0   \n",
      "45414                               1.0                                   0.0   \n",
      "25856                               1.0                                   0.0   \n",
      "6061                                1.0                                   0.0   \n",
      "\n",
      "       cat__metformin-rosiglitazone_No  cat__metformin-pioglitazone_No  \\\n",
      "21175                              1.0                             1.0   \n",
      "11323                              1.0                             1.0   \n",
      "45414                              1.0                             1.0   \n",
      "25856                              1.0                             1.0   \n",
      "6061                               1.0                             1.0   \n",
      "\n",
      "       cat__metformin-pioglitazone_Steady  cat__change_Ch  cat__change_No  \\\n",
      "21175                                 0.0             0.0             1.0   \n",
      "11323                                 0.0             1.0             0.0   \n",
      "45414                                 0.0             1.0             0.0   \n",
      "25856                                 0.0             0.0             1.0   \n",
      "6061                                  0.0             0.0             1.0   \n",
      "\n",
      "       cat__diabetesMed_No  cat__diabetesMed_Yes  readmitted  \n",
      "21175                  0.0                   1.0           0  \n",
      "11323                  0.0                   1.0           0  \n",
      "45414                  0.0                   1.0           1  \n",
      "25856                  0.0                   1.0           0  \n",
      "6061                   1.0                   0.0           0  \n",
      "\n",
      "[5 rows x 2221 columns]\n",
      "\n",
      "Number of features after preprocessing: 2220\n"
     ]
    }
   ],
   "source": [
    "# Display head of processed training data\n",
    "print(\"\\nHead of processed training data:\")\n",
    "print(train_processed_df.head())\n",
    "print(f\"\\nNumber of features after preprocessing: {train_processed_df.shape[1] - 1}\") # -1 for target col"
   ]
  },
  {
   "cell_type": "markdown",
   "id": "74736641",
   "metadata": {},
   "source": [
    "**Observation:** One-Hot Encoding significantly increased the number of features, especially due to diagnosis codes and medications. This high dimensionality might pose challenges for some models but is handled by Neural Networks. Feature selection or embedding layers could be considered for optimization."
   ]
  },
  {
   "cell_type": "code",
   "execution_count": 16,
   "id": "1ef87d51",
   "metadata": {},
   "outputs": [
    {
     "name": "stderr",
     "output_type": "stream",
     "text": [
      "2025-03-31 18:26:33,933 - INFO - Data saved successfully to: ../data/processed/train.csv\n",
      "2025-03-31 18:26:53,973 - INFO - Data saved successfully to: ../data/processed/val.csv\n",
      "2025-03-31 18:27:14,111 - INFO - Data saved successfully to: ../data/processed/test.csv\n"
     ]
    },
    {
     "name": "stdout",
     "output_type": "stream",
     "text": [
      "\n",
      "Processed data saved to ../data/processed/\n"
     ]
    }
   ],
   "source": [
    "# Save processed data\n",
    "processed_dir = f\"../{paths['processed_data_dir']}\"\n",
    "os.makedirs(processed_dir, exist_ok=True)\n",
    "\n",
    "train_save_path = f\"../{paths['train_data']}\"\n",
    "val_save_path = f\"../{paths['val_data']}\"\n",
    "test_save_path = f\"../{paths['test_data']}\"\n",
    "\n",
    "data_loader.save_processed_data(train_processed_df, train_save_path)\n",
    "data_loader.save_processed_data(val_processed_df, val_save_path)\n",
    "data_loader.save_processed_data(test_processed_df, test_save_path)\n",
    "\n",
    "print(f\"\\nProcessed data saved to {processed_dir}\")"
   ]
  },
  {
   "cell_type": "markdown",
   "id": "5157e612",
   "metadata": {},
   "source": [
    "## 1.6 Conclusion\n",
    "\n",
    "The data has been successfully explored, cleaned, preprocessed, and split into training, validation, and test sets. The resulting CSV files in `data/processed/` are ready to be used for model training and evaluation. The preprocessing steps (scaling, encoding) were fitted only on the training data to prevent data leakage."
   ]
  }
 ],
 "metadata": {
  "jupytext": {
   "cell_metadata_filter": "-all",
   "encoding": "# -*- coding: utf-8 -*-",
   "main_language": "python",
   "notebook_metadata_filter": "-all"
  },
  "kernelspec": {
   "display_name": "Python 3 (ipykernel)",
   "language": "python",
   "name": "python3"
  },
  "language_info": {
   "codemirror_mode": {
    "name": "ipython",
    "version": 3
   },
   "file_extension": ".py",
   "mimetype": "text/x-python",
   "name": "python",
   "nbconvert_exporter": "python",
   "pygments_lexer": "ipython3",
   "version": "3.8.12"
  }
 },
 "nbformat": 4,
 "nbformat_minor": 5
}
